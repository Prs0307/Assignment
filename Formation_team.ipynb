{
 "cells": [
  {
   "cell_type": "code",
   "execution_count": 124,
   "metadata": {},
   "outputs": [],
   "source": [
    "import pandas as pd"
   ]
  },
  {
   "cell_type": "code",
   "execution_count": 125,
   "metadata": {},
   "outputs": [],
   "source": [
    "df=pd.read_excel(r\"D:\\HOSHO\\input.xlsx\")"
   ]
  },
  {
   "cell_type": "code",
   "execution_count": 126,
   "metadata": {},
   "outputs": [
    {
     "data": {
      "text/html": [
       "<div>\n",
       "<style scoped>\n",
       "    .dataframe tbody tr th:only-of-type {\n",
       "        vertical-align: middle;\n",
       "    }\n",
       "\n",
       "    .dataframe tbody tr th {\n",
       "        vertical-align: top;\n",
       "    }\n",
       "\n",
       "    .dataframe thead th {\n",
       "        text-align: right;\n",
       "    }\n",
       "</style>\n",
       "<table border=\"1\" class=\"dataframe\">\n",
       "  <thead>\n",
       "    <tr style=\"text-align: right;\">\n",
       "      <th></th>\n",
       "      <th>Software</th>\n",
       "      <th>Data Analyst</th>\n",
       "      <th>Buisiness Analyst</th>\n",
       "    </tr>\n",
       "  </thead>\n",
       "  <tbody>\n",
       "    <tr>\n",
       "      <th>0</th>\n",
       "      <td>Aamodit Saini</td>\n",
       "      <td>Karan Kumar Shah</td>\n",
       "      <td>Svastii Shrivastava</td>\n",
       "    </tr>\n",
       "    <tr>\n",
       "      <th>1</th>\n",
       "      <td>Anuj Gupta</td>\n",
       "      <td>Kavya Shukla</td>\n",
       "      <td>Swayam jironiya</td>\n",
       "    </tr>\n",
       "    <tr>\n",
       "      <th>2</th>\n",
       "      <td>Ayush Nema</td>\n",
       "      <td>Kayab Khan</td>\n",
       "      <td>Tanish Anand</td>\n",
       "    </tr>\n",
       "    <tr>\n",
       "      <th>3</th>\n",
       "      <td>Harsh Vishwakarma</td>\n",
       "      <td>KESHAV GUPTA</td>\n",
       "      <td>Tanishi Shukla</td>\n",
       "    </tr>\n",
       "    <tr>\n",
       "      <th>4</th>\n",
       "      <td>Jayesh Shrivastava</td>\n",
       "      <td>Layaa Vishwakarma</td>\n",
       "      <td>Tanishka Shivhare</td>\n",
       "    </tr>\n",
       "  </tbody>\n",
       "</table>\n",
       "</div>"
      ],
      "text/plain": [
       "             Software       Data Analyst    Buisiness Analyst\n",
       "0       Aamodit Saini   Karan Kumar Shah  Svastii Shrivastava\n",
       "1          Anuj Gupta       Kavya Shukla      Swayam jironiya\n",
       "2          Ayush Nema         Kayab Khan         Tanish Anand\n",
       "3   Harsh Vishwakarma       KESHAV GUPTA       Tanishi Shukla\n",
       "4  Jayesh Shrivastava  Layaa Vishwakarma    Tanishka Shivhare"
      ]
     },
     "execution_count": 126,
     "metadata": {},
     "output_type": "execute_result"
    }
   ],
   "source": [
    "df.head()"
   ]
  },
  {
   "cell_type": "code",
   "execution_count": 127,
   "metadata": {},
   "outputs": [],
   "source": [
    "column_data1 = df['Software'] # Developers\n",
    "column_data2 = df['Data Analyst'] # Data Analysts\n",
    "column_data3 = df['Buisiness Analyst']\n",
    "\n",
    "column_data1=column_data1.dropna().tolist() \n",
    "column_data2=column_data2.dropna().tolist()\n",
    "column_data3=column_data3.dropna().tolist()"
   ]
  },
  {
   "cell_type": "code",
   "execution_count": 128,
   "metadata": {},
   "outputs": [
    {
     "data": {
      "text/plain": [
       "29"
      ]
     },
     "execution_count": 128,
     "metadata": {},
     "output_type": "execute_result"
    }
   ],
   "source": [
    "len(column_data1) "
   ]
  },
  {
   "cell_type": "code",
   "execution_count": 129,
   "metadata": {},
   "outputs": [],
   "source": [
    "num_teams = min(len(column_data1) // 3, len(column_data2), len(column_data3))\n",
    "\n",
    "teams = []"
   ]
  },
  {
   "cell_type": "code",
   "execution_count": 130,
   "metadata": {},
   "outputs": [
    {
     "data": {
      "text/plain": [
       "9"
      ]
     },
     "execution_count": 130,
     "metadata": {},
     "output_type": "execute_result"
    }
   ],
   "source": [
    "num_teams"
   ]
  },
  {
   "cell_type": "code",
   "execution_count": 131,
   "metadata": {},
   "outputs": [
    {
     "data": {
      "text/plain": [
       "29"
      ]
     },
     "execution_count": 131,
     "metadata": {},
     "output_type": "execute_result"
    }
   ],
   "source": [
    "len(column_data1)"
   ]
  },
  {
   "cell_type": "code",
   "execution_count": 132,
   "metadata": {},
   "outputs": [
    {
     "name": "stdout",
     "output_type": "stream",
     "text": [
      "Size of col1, col2, col3 29 20 19\n",
      "Size of col1, col2, col3 26 19 18\n",
      "Size of col1, col2, col3 23 18 17\n",
      "Size of col1, col2, col3 20 17 16\n",
      "Size of col1, col2, col3 17 16 15\n",
      "Size of col1, col2, col3 14 15 14\n",
      "Size of col1, col2, col3 11 14 12\n",
      "Size of col1, col2, col3 8 13 11\n",
      "Size of col1, col2, col3 5 12 10\n"
     ]
    }
   ],
   "source": [
    "\n",
    "\n",
    "import random\n",
    "\n",
    "\n",
    "for i in range(num_teams):   \n",
    "    while len(column_data1)>=3 and len(column_data2)>0 and len(column_data3)>0:\n",
    "        if len(column_data1) < 3 or len(column_data2) < 1 or len(column_data3) < 1:\n",
    "            print(\"Insufficient members to form a team\")\n",
    "            break\n",
    "        selected_developers = random.sample(column_data1, 3)\n",
    "    \n",
    "        selected_data_analyst = random.sample(column_data2, 1)\n",
    "        \n",
    "        selected_business_analyst = random.sample(column_data3, 1)\n",
    "        \n",
    "        team = selected_developers + selected_data_analyst + selected_business_analyst\n",
    "        teams.append(team)\n",
    "        print(\"Size of col1, col2, col3\", len(column_data1), len(column_data2), len(column_data3))\n",
    "        \n",
    "       \n",
    "        column_data1 = [d for d in column_data1 if d not in selected_developers]\n",
    "        column_data2 = [d for d in column_data2 if d not in selected_data_analyst]\n",
    "        column_data3 = [d for d in column_data3 if d not in selected_business_analyst]\n",
    "        \n",
    "        \n",
    "    "
   ]
  },
  {
   "cell_type": "code",
   "execution_count": 133,
   "metadata": {},
   "outputs": [
    {
     "data": {
      "text/plain": [
       "9"
      ]
     },
     "execution_count": 133,
     "metadata": {},
     "output_type": "execute_result"
    }
   ],
   "source": [
    "len(teams)"
   ]
  },
  {
   "cell_type": "code",
   "execution_count": 134,
   "metadata": {},
   "outputs": [
    {
     "name": "stdout",
     "output_type": "stream",
     "text": [
      "Team 1: ['AMEY BAJPAI', 'ANMOL SAHU', 'Akshat Gupta', 'Kayab Khan', 'Svastii Shrivastava']\n",
      "Team 2: ['Jayesh Shrivastava', 'Aadarsh Soni', 'Prince', 'nikhil koshta', 'Vedansh Chandak']\n",
      "Team 3: ['Ranvijay Kumar Upadhyay', 'Aamodit Saini', 'Aditya Sijaria', 'Nikhil Patidar', 'Yashvi Jain']\n",
      "Team 4: ['Abhinav Mishra', 'Saurabh Suman', 'VIDHI AWASTHI', 'Mohnish Raj', 'Tanishka Shivhare']\n",
      "Team 5: ['Vishal Sahu', 'Harsh Vishwakarma', 'Yash Saxena', 'Mayank Rautiya', 'Vinay Patidar']\n",
      "Team 6: ['Aditi Choudhary', 'Shivam', 'Ayush Nema', 'KESHAV GUPTA', 'Vikramaditya Singh']\n",
      "Team 7: ['Akhilesh Sharma', 'Priya Vishwakarma', 'Abhay Urmaliya', 'Mayank singh tagore', 'Swayam jironiya']\n",
      "Team 8: ['aasit babele', 'Nischal Jain', 'Vedik Saini', 'Nikhil Koshta', 'Uday Uikey']\n",
      "Team 9: ['Anuj Gupta', 'Yash Tiwari', 'Abhishek Choudhary', 'Manishh Kumar', 'Tushar porwal']\n"
     ]
    }
   ],
   "source": [
    "for idx, team in enumerate(teams, start=1):\n",
    "    print(f\"Team {idx}: {team}\")"
   ]
  },
  {
   "cell_type": "code",
   "execution_count": null,
   "metadata": {},
   "outputs": [],
   "source": []
  },
  {
   "cell_type": "code",
   "execution_count": null,
   "metadata": {},
   "outputs": [],
   "source": []
  }
 ],
 "metadata": {
  "kernelspec": {
   "display_name": "base",
   "language": "python",
   "name": "python3"
  },
  "language_info": {
   "codemirror_mode": {
    "name": "ipython",
    "version": 3
   },
   "file_extension": ".py",
   "mimetype": "text/x-python",
   "name": "python",
   "nbconvert_exporter": "python",
   "pygments_lexer": "ipython3",
   "version": "3.12.3"
  }
 },
 "nbformat": 4,
 "nbformat_minor": 2
}
